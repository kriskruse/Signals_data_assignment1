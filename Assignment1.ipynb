{
 "cells": [
  {
   "cell_type": "markdown",
   "metadata": {},
   "source": [
    "# Assignment 1: Classifying handwritten digits using probability theory"
   ]
  },
  {
   "cell_type": "markdown",
   "metadata": {},
   "source": [
    "# 1. Introduce the problem in your own words. You should mention what data we use, what we want to do with it and how we will do it. Explain with your own words the Naive Bayes classifier, it's assumptions and how this can classify the digits $0-9$.\n",
    "\n",
    "In this notebook, we will classify handwritten digits with the Naive Bayes classifier. \n",
    "We use the mnist dataset containing 70.000 binary black and white images with the digits 0-9. \n",
    "\n",
    "The images are 28x28 pixels which we will transform into a 784 length vector so that we can interpret each image as 784 different features.\n",
    "The images are split into two sets; a train and a test set used to evaluate model performance.\n",
    "\n",
    "Naive Bayes is a probabilistic approach based on Bayes theorm.\n",
    "Bayes theorem is given by the formula\n",
    "$$P(y|X)=\\frac{P(X|y)\\cdot P(y)}{P(X)}$$\n",
    "where in our case, $P(y|X)$ is the probability of an image having the label $y$ given the $X$ pixels.\n",
    "\n",
    "The problematic term is $P(X|y)$ in the numerator. Calculating this term is very computational expensive if we assume depence between the pixels, which one should to be precise.\n",
    "Naive Bayes solves this problem by assuming indepence between each pixel. This assumption is flawed and is the reason for calling it naive. However, when the pixels are assumed independent, the numerator can be easily calculated as the product of the probability of each pixel.\n",
    "\n",
    "Multiplying many probabilities results in very small values as any probability is between zero and 1. By applying the logarithm to each probability, we can add the logarithmic probabilities together instead. \n",
    "This term is also called the likelihood and when using the logarithm trick, we call it the log likelihood.\n",
    "\n",
    "We train a probability model $P(y|X)$ for each $y$ so that we can compare the results and make our prediction according to the model which returns the highest probability"
   ]
  },
  {
   "cell_type": "code",
   "execution_count": 23,
   "metadata": {},
   "outputs": [],
   "source": [
    "from __future__ import division\n",
    "import numpy as np\n",
    "import pylab as plt\n",
    "from mpl_toolkits.axes_grid1 import make_axes_locatable\n",
    "from sklearn.metrics import plot_confusion_matrix"
   ]
  },
  {
   "cell_type": "markdown",
   "metadata": {},
   "source": [
    "# 2. Load the data"
   ]
  },
  {
   "cell_type": "code",
   "execution_count": 24,
   "metadata": {},
   "outputs": [
    {
     "name": "stdout",
     "output_type": "stream",
     "text": [
      "The shape of X is (70000, 784)\n",
      "The shape of y is (70000)\n",
      "\n",
      "Number of images: 70000\n",
      "Number of pixels: 784\n"
     ]
    }
   ],
   "source": [
    "# load data\n",
    "data = np.load(\"mnist_bin.npz\") # insert your answer here\n",
    "\n",
    "# get vector representation of binary digits\n",
    "X = data['X']\n",
    "\n",
    "# get binary labels\n",
    "y = data['y']\n",
    "\n",
    "print('The shape of X is (%d, %d)' % X.shape)\n",
    "print('The shape of y is (%d)\\n' % y.shape)\n",
    "\n",
    "# Dimensions\n",
    "N, D = X.shape\n",
    "\n",
    "print('Number of images: %d' % N)\n",
    "print('Number of pixels: %d' % D)\n"
   ]
  },
  {
   "cell_type": "markdown",
   "metadata": {},
   "source": [
    "#### Run the code beneath. It plots 10 images of each digit. \n"
   ]
  },
  {
   "cell_type": "code",
   "execution_count": 25,
   "metadata": {},
   "outputs": [],
   "source": [
    "def show_image(x, title=\"\", clim=None, cmap=plt.cm.gray, colorbar=False):\n",
    "    ax = plt.gca()\n",
    "    im = ax.imshow(x.reshape((28, 28)), cmap=cmap, clim=clim)\n",
    "    \n",
    "    if len(title) > 0:\n",
    "        plt.title(title)\n",
    "        \n",
    "    plt.axis('off')\n",
    "    \n",
    "    if colorbar:\n",
    "        divider = make_axes_locatable(ax)\n",
    "        cax = divider.append_axes(\"right\", size=\"5%\", pad=0.05)\n",
    "        plt.colorbar(im, cax=cax)"
   ]
  },
  {
   "cell_type": "code",
   "execution_count": 26,
   "metadata": {},
   "outputs": [
    {
     "data": {
      "image/png": "[encoded data removed]",
      "text/plain": [
       "<Figure size 1440x1440 with 100 Axes>"
      ]
     },
     "metadata": {
      "needs_background": "light"
     },
     "output_type": "display_data"
    }
   ],
   "source": [
    "num_images_per_row  = 10\n",
    "num_labels          = 10\n",
    "\n",
    "plt.figure(figsize=(20, 20))\n",
    "counter             = 1\n",
    "for i in range(num_labels):\n",
    "    for l in range(num_images_per_row):\n",
    "        plt.subplot(num_labels, num_images_per_row, counter)\n",
    "\n",
    "        all_images_belonging_to_class_l = X[y==l,:]\n",
    "        one_images_belonging_to_class_l = all_images_belonging_to_class_l[i]\n",
    "        \n",
    "        show_image(one_images_belonging_to_class_l)  \n",
    "        counter += 1\n"
   ]
  },
  {
   "cell_type": "markdown",
   "metadata": {},
   "source": [
    "# 3. Explain what a training set is, what a test set is and why we as data scientists *always* split data into test/train before doing any modelling. What do we want to avoid?\n",
    "\n",
    "A training set is the data points we use to train our model. The test set is data that the model hasn't been trained on but is used to evaluate model performance. \n",
    "We do this to avoid overfitting the model such that it fails to generalize to real world data."
   ]
  },
  {
   "cell_type": "code",
   "execution_count": 27,
   "metadata": {},
   "outputs": [
    {
     "name": "stdout",
     "output_type": "stream",
     "text": [
      "Total number of images:\t\t70000\n",
      "Number of training images:\t56000\n",
      "Number of test images:\t\t14000\n"
     ]
    }
   ],
   "source": [
    "N = len(X)\n",
    "N_train = int(0.8*N)\n",
    "N_test = N - N_train\n",
    "\n",
    "# set random seed:\n",
    "np.random.seed(0) # don't change this :-)\n",
    "\n",
    "# create a random permutation for splitting into training and test\n",
    "randperm = np.random.permutation(N)\n",
    "\n",
    "# split into training and test\n",
    "train_idx = randperm[:N_train]\n",
    "test_idx = randperm[N_train:]\n",
    "Xtrain, Xtest = X[train_idx, :], X[test_idx, :]\n",
    "ytrain, ytest = y[train_idx], y[test_idx]\n",
    "\n",
    "print('Total number of images:\\t\\t%d' % N)\n",
    "print('Number of training images:\\t%d' % N_train)\n",
    "print('Number of test images:\\t\\t%d' % N_test)"
   ]
  },
  {
   "cell_type": "markdown",
   "metadata": {},
   "source": [
    "# 4. Implement/change the code to handle all digits. \n",
    "### Fitting the Naı̈ve-Bayes model to training set: the prior"
   ]
  },
  {
   "cell_type": "markdown",
   "metadata": {},
   "source": [
    "The code beneath is taken from Exercise 1 and it only handles digits 0 and 1. Change the code to handle all digits."
   ]
  },
  {
   "cell_type": "code",
   "execution_count": 28,
   "metadata": {},
   "outputs": [
    {
     "name": "stdout",
     "output_type": "stream",
     "text": [
      "Number of training digits:56000\n",
      "Number of 0s: 5573\n",
      "Number of 1s: 6280\n",
      "Number of 2s: 5592\n",
      "Number of 3s: 5700\n",
      "Number of 4s: 5480\n",
      "Number of 5s: 5063\n",
      "Number of 6s: 5507\n",
      "Number of 7s: 5778\n",
      "Number of 8s: 5449\n",
      "Number of 9s: 5578\n",
      "\n",
      "Prior probability of seeing a 0:\tp(y = 0) = 5573/56000 = 0.10\n",
      "Prior probability of seeing a 1:\tp(y = 1) = 6280/56000 = 0.11\n",
      "Prior probability of seeing a 2:\tp(y = 2) = 5592/56000 = 0.10\n",
      "Prior probability of seeing a 3:\tp(y = 3) = 5700/56000 = 0.10\n",
      "Prior probability of seeing a 4:\tp(y = 4) = 5480/56000 = 0.10\n",
      "Prior probability of seeing a 5:\tp(y = 5) = 5063/56000 = 0.09\n",
      "Prior probability of seeing a 6:\tp(y = 6) = 5507/56000 = 0.10\n",
      "Prior probability of seeing a 7:\tp(y = 7) = 5778/56000 = 0.10\n",
      "Prior probability of seeing a 8:\tp(y = 8) = 5449/56000 = 0.10\n",
      "Prior probability of seeing a 9:\tp(y = 9) = 5578/56000 = 0.10\n"
     ]
    }
   ],
   "source": [
    "counts = []\n",
    "for i in range(10):\n",
    "    count = np.sum(ytrain == i)\n",
    "    counts.append(count)\n",
    "\n",
    "counts = np.array(counts) \n",
    "\n",
    "\n",
    "# compute prior prob.: P(Y=0) = count_zeros/N_train and P(Y=1) = count_ones/N_train\n",
    "\n",
    "# let's store both probabilities in a vector\n",
    "prior = counts / N_train\n",
    "\n",
    "print('Number of training digits:%d' % N_train)\n",
    "for i in range(10):\n",
    "    print(f\"Number of {i}s: {counts[i]}\")\n",
    "print()\n",
    "\n",
    "for i in range(10):\n",
    "    print(\"Prior probability of seeing a {}:\\tp(y = {}) = {}/{} = {:.2f}\".format(i,i,counts[i],N_train,prior[i]))"
   ]
  },
  {
   "cell_type": "markdown",
   "metadata": {},
   "source": [
    "### Fitting the Naı̈ve-Bayes model to training set: the likelihood"
   ]
  },
  {
   "cell_type": "code",
   "execution_count": 29,
   "metadata": {},
   "outputs": [],
   "source": [
    "Xtrain_numbers = []\n",
    "for i in range(10):\n",
    "    Xtrain_numbers.append(Xtrain[ytrain == i, :])\n",
    "\n",
    "# fit models\n",
    "p_numbers = []\n",
    "for i in range(10):\n",
    "    p_numbers.append(np.mean(Xtrain_numbers[i],axis=0))"
   ]
  },
  {
   "cell_type": "code",
   "execution_count": 30,
   "metadata": {},
   "outputs": [
    {
     "name": "stdout",
     "output_type": "stream",
     "text": [
      "Image idx: 0 (label=0)\n",
      "p(x_new | Y=0): 1.17e-85\n",
      "p(x_new | Y=1): 1.53e-243\n",
      "p(x_new | Y=2): 3.91e-119\n",
      "p(x_new | Y=3): 5.44e-123\n",
      "p(x_new | Y=4): 1.82e-118\n",
      "p(x_new | Y=5): 3.26e-109\n",
      "p(x_new | Y=6): 6.55e-99\n",
      "p(x_new | Y=7): 6.98e-188\n",
      "p(x_new | Y=8): 1.24e-109\n",
      "p(x_new | Y=9): 1.08e-134\n",
      "\n",
      "\n",
      "Image idx: 10 (label=1)\n",
      "p(x_new | Y=0): 3.40e-122\n",
      "p(x_new | Y=1): 2.94e-34\n",
      "p(x_new | Y=2): 5.53e-75\n",
      "p(x_new | Y=3): 1.24e-76\n",
      "p(x_new | Y=4): 2.29e-86\n",
      "p(x_new | Y=5): 2.74e-76\n",
      "p(x_new | Y=6): 1.37e-112\n",
      "p(x_new | Y=7): 1.06e-83\n",
      "p(x_new | Y=8): 7.47e-68\n",
      "p(x_new | Y=9): 6.80e-81\n",
      "\n",
      "\n",
      "Image idx: 510 (label=1)\n",
      "p(x_new | Y=0): 2.39e-125\n",
      "p(x_new | Y=1): 5.00e-34\n",
      "p(x_new | Y=2): 3.51e-73\n",
      "p(x_new | Y=3): 1.31e-78\n",
      "p(x_new | Y=4): 7.04e-96\n",
      "p(x_new | Y=5): 9.44e-78\n",
      "p(x_new | Y=6): 3.88e-88\n",
      "p(x_new | Y=7): 3.38e-107\n",
      "p(x_new | Y=8): 7.98e-68\n",
      "p(x_new | Y=9): 6.62e-90\n",
      "\n",
      "\n",
      "Image idx: 810 (label=6)\n",
      "p(x_new | Y=0): 6.20e-151\n",
      "p(x_new | Y=1): 7.56e-150\n",
      "p(x_new | Y=2): 1.27e-89\n",
      "p(x_new | Y=3): 2.06e-128\n",
      "p(x_new | Y=4): 4.94e-108\n",
      "p(x_new | Y=5): 7.32e-129\n",
      "p(x_new | Y=6): 9.57e-68\n",
      "p(x_new | Y=7): 3.05e-165\n",
      "p(x_new | Y=8): 2.02e-138\n",
      "p(x_new | Y=9): 1.10e-154\n",
      "\n",
      "\n"
     ]
    }
   ],
   "source": [
    "# This code should be sufficient, i.e. don't change this.\n",
    "def log_likelihood(x_new, p_digit):\n",
    "    pixel_log_lik = x_new*np.log(p_digit + 1e-16) + (1-x_new)*np.log(1-p_digit)\n",
    "    return np.sum(pixel_log_lik)\n",
    "    \n",
    "image_idxs_to_be_classified = [0,10,510,810]\n",
    "for image_idx in image_idxs_to_be_classified:\n",
    "    x_new = Xtrain[image_idx]\n",
    "    print('Image idx: %d (label=%d)' % (image_idx, ytrain[image_idx]))\n",
    "    \n",
    "    for i in range(10):\n",
    "        print('p(x_new | Y=%d): %3.2e' % (i ,np.exp(log_likelihood(x_new, p_numbers[i]))))\n",
    "    print('\\n')"
   ]
  },
  {
   "cell_type": "markdown",
   "metadata": {},
   "source": [
    "### Implementing Bayes's theorem"
   ]
  },
  {
   "cell_type": "code",
   "execution_count": 31,
   "metadata": {},
   "outputs": [],
   "source": [
    "def compute_posterior_prob(x_new):\n",
    "    log_lik_numbers = []\n",
    "    for i in range(10):\n",
    "        log_lik_numbers.append(log_likelihood(x_new, p_numbers[i]))\n",
    "        \n",
    "\n",
    "    # exponentiate\n",
    "    lik_numbers = []\n",
    "    for i in range(10):\n",
    "        lik_numbers.append(np.exp(log_lik_numbers[i]))\n",
    "    # extend code here\n",
    "\n",
    "#     # implement eq. (4)\n",
    "    term_numbers = []\n",
    "    for i in range(10):\n",
    "        term_numbers.append(lik_numbers[i]*prior[i])\n",
    "    evidence = np.sum(term_numbers)\n",
    "    \n",
    "    post_prob_numbers = []\n",
    "    for i in range(10):\n",
    "        post_prob_numbers.append(term_numbers[i]/evidence)\n",
    "\n",
    "    posterior = np.array(post_prob_numbers)\n",
    "    return posterior\n"
   ]
  },
  {
   "cell_type": "markdown",
   "metadata": {},
   "source": [
    "### A simple classification rule: take the class with largest posterior probability"
   ]
  },
  {
   "cell_type": "code",
   "execution_count": 32,
   "metadata": {},
   "outputs": [],
   "source": [
    "def classify(x):\n",
    "    posterior = compute_posterior_prob(x)\n",
    "    predicted_label = np.argmax(posterior)\n",
    "    return predicted_label\n",
    "    "
   ]
  },
  {
   "cell_type": "markdown",
   "metadata": {},
   "source": [
    "### Change this code to classify some of the images "
   ]
  },
  {
   "cell_type": "code",
   "execution_count": 33,
   "metadata": {},
   "outputs": [
    {
     "name": "stdout",
     "output_type": "stream",
     "text": [
      "p(Y|x) = (1.0)\n",
      "True label: 2\n",
      "Predicted label: 6\n",
      "p(Y|x) = (1.0)\n",
      "True label: 7\n",
      "Predicted label: 9\n",
      "p(Y|x) = (1.0)\n",
      "True label: 7\n",
      "Predicted label: 7\n",
      "p(Y|x) = (1.0)\n",
      "True label: 3\n",
      "Predicted label: 3\n",
      "p(Y|x) = (1.0)\n",
      "True label: 1\n",
      "Predicted label: 1\n",
      "p(Y|x) = (1.0)\n",
      "True label: 3\n",
      "Predicted label: 3\n",
      "p(Y|x) = (1.0)\n",
      "True label: 1\n",
      "Predicted label: 1\n",
      "p(Y|x) = (1.0)\n",
      "True label: 7\n",
      "Predicted label: 7\n",
      "p(Y|x) = (1.0)\n",
      "True label: 3\n",
      "Predicted label: 3\n",
      "p(Y|x) = (0.7)\n",
      "True label: 7\n",
      "Predicted label: 8\n"
     ]
    },
    {
     "data": {
      "image/png": "[encoded data removed]",
      "text/plain": [
       "<Figure size 432x288 with 1 Axes>"
      ]
     },
     "metadata": {
      "needs_background": "light"
     },
     "output_type": "display_data"
    },
    {
     "data": {
      "image/png": "[encoded data removed]",
      "text/plain": [
       "<Figure size 432x288 with 1 Axes>"
      ]
     },
     "metadata": {
      "needs_background": "light"
     },
     "output_type": "display_data"
    },
    {
     "data": {
      "image/png": "[encoded data removed]",
      "text/plain": [
       "<Figure size 432x288 with 1 Axes>"
      ]
     },
     "metadata": {
      "needs_background": "light"
     },
     "output_type": "display_data"
    },
    {
     "data": {
      "image/png": "[encoded data removed]",
      "text/plain": [
       "<Figure size 432x288 with 1 Axes>"
      ]
     },
     "metadata": {
      "needs_background": "light"
     },
     "output_type": "display_data"
    },
    {
     "data": {
      "image/png": "[encoded data removed]",
      "text/plain": [
       "<Figure size 432x288 with 1 Axes>"
      ]
     },
     "metadata": {
      "needs_background": "light"
     },
     "output_type": "display_data"
    },
    {
     "data": {
      "image/png": "[encoded data removed]",
      "text/plain": [
       "<Figure size 432x288 with 1 Axes>"
      ]
     },
     "metadata": {
      "needs_background": "light"
     },
     "output_type": "display_data"
    },
    {
     "data": {
      "image/png": "[encoded data removed]",
      "text/plain": [
       "<Figure size 432x288 with 1 Axes>"
      ]
     },
     "metadata": {
      "needs_background": "light"
     },
     "output_type": "display_data"
    },
    {
     "data": {
      "image/png": "[encoded data removed]",
      "text/plain": [
       "<Figure size 432x288 with 1 Axes>"
      ]
     },
     "metadata": {
      "needs_background": "light"
     },
     "output_type": "display_data"
    },
    {
     "data": {
      "image/png": "[encoded data removed]",
      "text/plain": [
       "<Figure size 432x288 with 1 Axes>"
      ]
     },
     "metadata": {
      "needs_background": "light"
     },
     "output_type": "display_data"
    },
    {
     "data": {
      "image/png": "[encoded data removed]",
      "text/plain": [
       "<Figure size 432x288 with 1 Axes>"
      ]
     },
     "metadata": {
      "needs_background": "light"
     },
     "output_type": "display_data"
    }
   ],
   "source": [
    "# Classifies the first 10 images in the test set\n",
    "for i in range(10):\n",
    "    f = plt.figure()\n",
    "    \n",
    "    # compute posterior probabilities\n",
    "    posterior = compute_posterior_prob(Xtest[i, :])\n",
    "    \n",
    "    # get true label and predicted label\n",
    "    true_label = ytest[i]\n",
    "    predicted_label = classify(Xtest[i, :])\n",
    "    \n",
    "    # show image \n",
    "    show_image(Xtest[i, :])\n",
    "    \n",
    "    # Print result\n",
    "    print('p(Y|x) = (%2.1f)' % np.max(posterior))\n",
    "    print(\"True label:\",true_label)\n",
    "    print(\"Predicted label:\",predicted_label)\n",
    "    \n"
   ]
  },
  {
   "cell_type": "markdown",
   "metadata": {},
   "source": [
    "### Let's compute the training and test errors"
   ]
  },
  {
   "cell_type": "code",
   "execution_count": 34,
   "metadata": {},
   "outputs": [],
   "source": [
    "ytrain_hat = np.array([classify(x) for x in Xtrain])\n",
    "ytest_hat = np.array([classify(x) for x in Xtest])"
   ]
  },
  {
   "cell_type": "code",
   "execution_count": 35,
   "metadata": {},
   "outputs": [
    {
     "name": "stdout",
     "output_type": "stream",
     "text": [
      "Training accuracy:\t0.840\n",
      "Test accuracy:\t\t0.840\n"
     ]
    }
   ],
   "source": [
    "mean_train_acc = np.mean(ytrain_hat == ytrain)\n",
    "mean_test_acc = np.mean(ytest_hat == ytest)\n",
    "print('Training accuracy:\\t%4.3f' % mean_train_acc)\n",
    "print('Test accuracy:\\t\\t%4.3f' % mean_test_acc)"
   ]
  },
  {
   "cell_type": "markdown",
   "metadata": {},
   "source": [
    "# 5. Compute the confusion matrix and explain what it shows."
   ]
  },
  {
   "cell_type": "code",
   "execution_count": 36,
   "metadata": {},
   "outputs": [
    {
     "data": {
      "image/png": "[encoded data removed]",
      "text/plain": [
       "<Figure size 432x288 with 2 Axes>"
      ]
     },
     "metadata": {
      "needs_background": "light"
     },
     "output_type": "display_data"
    }
   ],
   "source": [
    "from sklearn.metrics import confusion_matrix\n",
    "labels = list(range(10))\n",
    "pred = np.array([classify(x) for x in Xtest])\n",
    "cm = confusion_matrix(ytest, pred, labels,normalize=\"true\")\n",
    "fig = plt.figure()\n",
    "ax = fig.add_subplot(111)\n",
    "cax = ax.matshow(cm)\n",
    "fig.colorbar(cax)\n",
    "ax.set_xticks(labels)\n",
    "ax.set_yticks(labels)\n",
    "ax.set_xticklabels(labels)\n",
    "ax.set_yticklabels(labels)\n",
    "plt.tight_layout()\n",
    "plt.show()"
   ]
  },
  {
   "cell_type": "markdown",
   "metadata": {},
   "source": [
    "The confusion matrix shows the accuracy of the model on the test set on the different classes.\n",
    "The vertical axis shows the actual labels of the test data while the horizontal axis shows the model prediction.\n",
    "Each square is thus a label/prediction pair. Therefore, the squares in the diagonal shows the percentage of cases where the model correctly predicted the label. The more yellow a square is, the more often the label/prediction pair occured.\n",
    "We can see that the model performance is quite good since the diagonal has a mostly bright yellow color. \n",
    "An outlier is the label 5 where the model quite often predicts 3 instead.\n",
    "Another one is the label 4 which is often predicted as 9 (roughly 20%)."
   ]
  },
  {
   "cell_type": "markdown",
   "metadata": {},
   "source": [
    "# 6. Error analysis: find images that are misclassified by the system.  Are there common characteristics among the images that are misclassified?\n",
    "\n",
    "Generally, some of the factors that lead to misclassification are: unfinished numbers, squeezed numbers in either x- or y-axis, numbers that in general look a bit like each other (4 and 9, 5 and 8) and numbers written with artifacts or other \"errors\".\n",
    "\n",
    "Another source of misclassification is the assumption of the Naive Bayes classifier. Thus, images that share a lot of the same pixels are easily interchanged.\n",
    "\n",
    "The code below shows 10 misclassified images of each digit along with the model prediction. \n",
    "We see that numbers that share a key characteristic such as 1, 4, 7, and 9 all with a central straight line are frequently confused.\n",
    "We same goes for 0, 2, 3, 5 and 8 which all share some curved edges. "
   ]
  },
  {
   "cell_type": "code",
   "execution_count": 37,
   "metadata": {},
   "outputs": [
    {
     "data": {
      "image/png": "[encoded data removed]",
      "text/plain": [
       "<Figure size 1440x1440 with 100 Axes>"
      ]
     },
     "metadata": {
      "needs_background": "light"
     },
     "output_type": "display_data"
    }
   ],
   "source": [
    "missedX = Xtrain[ytrain != ytrain_hat]\n",
    "missedy = ytrain[ytrain != ytrain_hat]\n",
    "missedy_hat = ytrain_hat[ytrain != ytrain_hat]\n",
    "\n",
    "\n",
    "num_images_per_row  = 10\n",
    "num_labels          = 10\n",
    "\n",
    "plt.figure(figsize=(20, 20))\n",
    "counter = 1\n",
    "for i in range(num_labels):\n",
    "    for l in range(num_images_per_row):\n",
    "        plt.subplot(num_labels, num_images_per_row, counter)\n",
    "        plt.title(f\"{missedy_hat[missedy==i][counter]}\")\n",
    "\n",
    "        missclassified = missedX[missedy==i][counter]\n",
    "        \n",
    "        show_image(missclassified)  \n",
    "        counter += 1\n",
    "\n",
    "\n",
    "def show_errors(i):\n",
    "    plt.imshow(missedX[i].reshape((28,28)))\n",
    "    plt.show()\n",
    "    print(f\"Prediction: {missedy_hat[i]}\")\n",
    "    print(f\"Actual: {missedy[i]}\")"
   ]
  },
  {
   "cell_type": "code",
   "execution_count": null,
   "metadata": {},
   "outputs": [],
   "source": []
  }
 ],
 "metadata": {
  "kernelspec": {
   "display_name": "Python 3",
   "language": "python",
   "name": "python3"
  },
  "language_info": {
   "codemirror_mode": {
    "name": "ipython",
    "version": 3
   },
   "file_extension": ".py",
   "mimetype": "text/x-python",
   "name": "python",
   "nbconvert_exporter": "python",
   "pygments_lexer": "ipython3",
   "version": "3.8.3"
  }
 },
 "nbformat": 4,
 "nbformat_minor": 2
}
